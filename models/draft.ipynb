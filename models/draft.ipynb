{
 "cells": [
  {
   "cell_type": "code",
   "execution_count": 1,
   "metadata": {},
   "outputs": [
    {
     "ename": "NameError",
     "evalue": "name 'np' is not defined",
     "output_type": "error",
     "traceback": [
      "\u001b[0;31m---------------------------------------------------------------------------\u001b[0m",
      "\u001b[0;31mNameError\u001b[0m                                 Traceback (most recent call last)",
      "Cell \u001b[0;32mIn[1], line 1\u001b[0m\n\u001b[0;32m----> 1\u001b[0m \u001b[39mclass\u001b[39;49;00m \u001b[39mViterbiAlgorithm\u001b[39;49;00m:\n\u001b[1;32m      2\u001b[0m \u001b[39m    \u001b[39;49m\u001b[39m\"\"\"An implementation of the Viterbi algorithm for Hidden Markov Models.\"\"\"\u001b[39;49;00m\n\u001b[1;32m      4\u001b[0m     \u001b[39mdef\u001b[39;49;00m \u001b[39m__init__\u001b[39;49m(\u001b[39mself\u001b[39;49m, hmm_object):\n",
      "Cell \u001b[0;32mIn[1], line 12\u001b[0m, in \u001b[0;36mViterbiAlgorithm\u001b[0;34m()\u001b[0m\n\u001b[1;32m      5\u001b[0m \u001b[39m    \u001b[39m\u001b[39m\"\"\"Initializes the ViterbiAlgorithm object.\u001b[39;00m\n\u001b[1;32m      6\u001b[0m \n\u001b[1;32m      7\u001b[0m \u001b[39m    Args:\u001b[39;00m\n\u001b[1;32m      8\u001b[0m \u001b[39m        hmm_object (HiddenMarkovModel): An object representing the Hidden Markov Model.\u001b[39;00m\n\u001b[1;32m      9\u001b[0m \u001b[39m    \"\"\"\u001b[39;00m\n\u001b[1;32m     10\u001b[0m     \u001b[39mself\u001b[39m\u001b[39m.\u001b[39mhmm_object \u001b[39m=\u001b[39m hmm_object\n\u001b[0;32m---> 12\u001b[0m \u001b[39mdef\u001b[39;00m \u001b[39mbest_hidden_state_sequence\u001b[39m(\u001b[39mself\u001b[39m, decode_observation_states: np\u001b[39m.\u001b[39mndarray) \u001b[39m-\u001b[39m\u001b[39m>\u001b[39m np\u001b[39m.\u001b[39mndarray:\n\u001b[1;32m     13\u001b[0m \u001b[39m    \u001b[39m\u001b[39m\"\"\"Finds the most likely sequence of hidden states that generated a given sequence of observation states.\u001b[39;00m\n\u001b[1;32m     14\u001b[0m \n\u001b[1;32m     15\u001b[0m \u001b[39m    Args:\u001b[39;00m\n\u001b[0;32m   (...)\u001b[0m\n\u001b[1;32m     19\u001b[0m \u001b[39m        np.ndarray: A NumPy array representing the most likely sequence of hidden states.\u001b[39;00m\n\u001b[1;32m     20\u001b[0m \u001b[39m    \"\"\"\u001b[39;00m\n\u001b[1;32m     22\u001b[0m     \u001b[39m## INITIALIZATION\u001b[39;00m\n\u001b[1;32m     23\u001b[0m     \u001b[39m# Initialize two arrays to store the hidden state sequence that returns the maximum probability\u001b[39;00m\n",
      "\u001b[0;31mNameError\u001b[0m: name 'np' is not defined"
     ]
    }
   ],
   "source": [
    "import copy\n",
    "import numpy as np\n",
    "\n",
    "class ViterbiAlgorithm:\n",
    "    \"\"\"An implementation of the Viterbi algorithm for Hidden Markov Models.\"\"\"\n",
    "\n",
    "    def __init__(self, hmm_object):\n",
    "        \"\"\"Initializes the ViterbiAlgorithm object.\n",
    "\n",
    "        Args:\n",
    "            hmm_object (HiddenMarkovModel): An object representing the Hidden Markov Model.\n",
    "        \"\"\"\n",
    "        self.hmm_object = hmm_object\n",
    "\n",
    "    def best_hidden_state_sequence(self, decode_observation_states: np.ndarray) -> np.ndarray:\n",
    "        \"\"\"Finds the most likely sequence of hidden states that generated a given sequence of observation states.\n",
    "\n",
    "        Args:\n",
    "            decode_observation_states (np.ndarray): A NumPy array representing the observation states to decode.\n",
    "\n",
    "        Returns:\n",
    "            np.ndarray: A NumPy array representing the most likely sequence of hidden states.\n",
    "        \"\"\"\n",
    "\n",
    "        ## INITIALIZATION\n",
    "        # Initialize two arrays to store the hidden state sequence that returns the maximum probability\n",
    "        path = np.zeros((len(decode_observation_states), len(self.hmm_object.hidden_states)))\n",
    "        path[0,:] = [hidden_state_index for hidden_state_index in range(len(self.hmm_object.hidden_states))]\n",
    "        best_path = np.zeros((len(decode_observation_states), len(self.hmm_object.hidden_states)))\n",
    "\n",
    "        # Compute the initial delta value and scale factor\n",
    "        first_observation_state_index = self.hmm_object.observation_states_dict[decode_observation_states[0]]\n",
    "        delta = self.hmm_object.prior_probabilities * self.hmm_object.emission_probabilities[:, first_observation_state_index]\n",
    "        if np.sum(delta) == 0:\n",
    "            delta = np.full_like(delta, np.finfo(float).eps)\n",
    "\n",
    "        #scaling\n",
    "        #scale_factor = 1.0 / np.sum(delta)\n",
    "        #delta /= scale_factor\n",
    "\n",
    "        ## RECURSION\n",
    "        # For each observation state to decode, select the hidden state sequence with the highest probability (i.e., Viterbi trellis)\n",
    "        for trellis_node in range(1, len(decode_observation_states)):\n",
    "            # Compute the product of delta and transition and emission probabilities\n",
    "            product_of_delta_and_transition_emission = np.multiply(delta, self.hmm_object.transition_probabilities.T)\n",
    "            product_of_delta_and_transition_emission = np.multiply(product_of_delta_and_transition_emission, self.hmm_object.emission_probabilities[:, self.hmm_object.observation_states_dict[decode_observation_states[trellis_node]]])\n",
    "\n",
    "            # Update delta and scale\n",
    "            delta = np.max(product_of_delta_and_transition_emission, axis=1)\n",
    "            if np.sum(delta) == 0:\n",
    "                delta = np.full_like(delta, np.finfo(float).eps)\n",
    "\n",
    "            #scaling\n",
    "            #scale_factor = 1.0 / np.sum(delta)\n",
    "            #delta /= scale_factor\n",
    "\n",
    "            # Select the hidden state sequence with the maximum probability\n",
    "            best_path[trellis_node,:] = np.argmax(product_of_delta_and_transition_emission, axis=1)\n",
    "\n",
    "            # Update the best path and current path for the next trellis node\n",
    "            for hidden_state in range(len(self.hmm_object.hidden_states)):\n",
    "                best_hidden_state_index = int(best_path[trellis_node, hidden_state])\n",
    "                path[trellis_node, hidden_state] = best_hidden_state_index\n",
    "                best_path[trellis_node, hidden_state] = delta[best_hidden_state_index] * product_of_delta_and_transition_emission[best_hidden_state_index, hidden_state]\n",
    "\n",
    "        ## TERMINATION\n",
    "        # Select the last hidden state given the best path (i.e., maximum probability)\n",
    "        best_hidden_state_path = np.zeros(len(decode_observation_states), dtype='U11')\n",
    "        best_hidden_state_path[-1] = self.hmm_object.hidden_states[int(np.argmax(delta))]\n",
    "\n",
    "        # Backtrack to get the sequence of hidden states that generated the observations\n",
    "        for trellis_node in range(len(decode_observation_states)-2, -1, -1):\n",
    "            best_hidden_state_index = path[trellis_node+1, int(best_path[trellis_node+1, best_hidden_state_index])]\n",
    "            best_hidden_state_index = int(best_path[trellis_node, self.hmm_object.hidden_states.index(best_hidden_state_path[trellis_node+1])])\n",
    "            best_hidden_state_path[trellis_node] = self.hmm_object.hidden_states[best_hidden_state_index]\n",
    "\n",
    "        \n",
    "        # convert the resulting array to the expected hidden state labels\n",
    "        for idx, state in enumerate(best_hidden_state_path):\n",
    "            if state == '0':\n",
    "                best_hidden_state_path[idx] = 'atac'\n",
    "            elif state == '1':\n",
    "                best_hidden_state_path[idx] = 'encode-atac'\n",
    "        \n",
    "        return best_hidden_state_path"
   ]
  }
 ],
 "metadata": {
  "kernelspec": {
   "display_name": "Python 3",
   "language": "python",
   "name": "python3"
  },
  "language_info": {
   "codemirror_mode": {
    "name": "ipython",
    "version": 3
   },
   "file_extension": ".py",
   "mimetype": "text/x-python",
   "name": "python",
   "nbconvert_exporter": "python",
   "pygments_lexer": "ipython3",
   "version": "3.11.1"
  },
  "orig_nbformat": 4,
  "vscode": {
   "interpreter": {
    "hash": "5c7b89af1651d0b8571dde13640ecdccf7d5a6204171d6ab33e7c296e100e08a"
   }
  }
 },
 "nbformat": 4,
 "nbformat_minor": 2
}
